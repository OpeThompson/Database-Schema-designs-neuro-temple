{
 "cells": [
  {
   "cell_type": "code",
   "execution_count": null,
   "id": "643fcf3b",
   "metadata": {},
   "outputs": [],
   "source": [
    "# SQL script for database creation.\n",
    "\n",
    "schema.sql\n",
    "CREATE TABLE patients (\n",
    "    patient_id SERIAL PRIMARY KEY,\n",
    "    first_name VARCHAR(100),\n",
    "    last_name VARCHAR(100),\n",
    "    date_of_birth DATE,\n",
    "    gender VARCHAR(10),\n",
    "    phone_number VARCHAR(15),\n",
    "    address TEXT,\n",
    "    neurology_history TEXT\n",
    ");\n",
    "\n",
    "CREATE TABLE doctors (\n",
    "    doctor_id SERIAL PRIMARY KEY,\n",
    "    first_name VARCHAR(100),\n",
    "    last_name VARCHAR(100),\n",
    "    specialization VARCHAR(100) DEFAULT 'Neurology',\n",
    "    phone_number VARCHAR(15),\n",
    "    license_number VARCHAR(50)\n",
    ");\n",
    "\n",
    "CREATE TABLE neurological_assessments (\n",
    "    assessment_id SERIAL PRIMARY KEY,\n",
    "    patient_id INT REFERENCES patients(patient_id),\n",
    "    doctor_id INT REFERENCES doctors(doctor_id),\n",
    "    assessment_date DATE,\n",
    "    findings TEXT,\n",
    "    diagnosis TEXT\n",
    ");\n",
    "\n",
    "CREATE TABLE appointments (\n",
    "    appointment_id SERIAL PRIMARY KEY,\n",
    "    patient_id INT REFERENCES patients(patient_id),\n",
    "    doctor_id INT REFERENCES doctors(doctor_id),\n",
    "    appointment_date DATE,\n",
    "    status VARCHAR(20)\n",
    ");\n",
    "\n",
    "CREATE TABLE prescriptions (\n",
    "    prescription_id SERIAL PRIMARY KEY,\n",
    "    patient_id INT REFERENCES patients(patient_id),\n",
    "    doctor_id INT REFERENCES doctors(doctor_id),\n",
    "    medication TEXT,\n",
    "    dosage VARCHAR(100),\n",
    "    prescription_date DATE\n",
    ");\n",
    "\n",
    "CREATE TABLE billing (\n",
    "    bill_id SERIAL PRIMARY KEY,\n",
    "    patient_id INT REFERENCES patients(patient_id),\n",
    "    amount DECIMAL(10, 2),\n",
    "    payment_status VARCHAR(20),\n",
    "    payment_date DATE\n",
    ");\n"
   ]
  },
  {
   "cell_type": "code",
   "execution_count": null,
   "id": "19fdaa77",
   "metadata": {},
   "outputs": [],
   "source": [
    "# ETL Pipeline for Neurology Clinic Data\n",
    "\n",
    "#ETL (Extract, Transform, Load) pipeline for handling patient and appointment data from the Clinic at Temple University. I'll extract data from CSV files, transform it to ensure consistent formats, and load it into a PostgreSQL database.\n",
    "\n",
    "\n",
    "### 1. **Environment Setup**\n",
    "#First, we'll import the necessary libraries and establish a connection to the PostgreSQL database.\n"
   ]
  },
  {
   "cell_type": "code",
   "execution_count": null,
   "id": "e22f83ff",
   "metadata": {},
   "outputs": [],
   "source": [
    "import pandas as pd\n",
    "import psycopg2\n",
    "\n",
    "def extract_data(file_path):\n",
    "    return pd.read_csv(file_path)\n",
    "\n",
    "def transform_data(df):\n",
    "    df['appointment_date'] = pd.to_datetime(df['appointment_date'], format='%Y-%m-%d')\n",
    "    return df\n",
    "\n",
    "def load_data(df, table_name, conn):\n",
    "    cursor = conn.cursor()\n",
    "    for _, row in df.iterrows():\n",
    "        cursor.execute(f\"INSERT INTO {table_name} VALUES ({','.join(['%s'] * len(row))})\", tuple(row))\n",
    "    conn.commit()\n",
    "\n",
    "def run_etl():\n",
    "    conn = psycopg2.connect(\n",
    "        dbname=\"neurology_clinic_db\", user=\"username\", password=\"password\", host=\"localhost\", port=\"5432\"\n",
    "    )\n",
    "    patients_df = extract_data('patients.csv')\n",
    "    appointments_df = extract_data('appointments.csv')\n",
    "    \n",
    "    transformed_patients = transform_data(patients_df)\n",
    "    transformed_appointments = transform_data(appointments_df)\n",
    "    \n",
    "    load_data(transformed_patients, 'patients', conn)\n",
    "    load_data(transformed_appointments, 'appointments', conn)\n",
    "\n",
    "if __name__ == '__main__':\n",
    "    run_etl()\n"
   ]
  },
  {
   "cell_type": "code",
   "execution_count": null,
   "id": "87af9e95",
   "metadata": {},
   "outputs": [],
   "source": [
    "# Breakdown of these steps"
   ]
  },
  {
   "cell_type": "code",
   "execution_count": null,
   "id": "82e28638",
   "metadata": {},
   "outputs": [],
   "source": [
    "# Import necessary libraries\n",
    "import pandas as pd\n",
    "import psycopg2\n",
    "\n",
    "# Establish a connection to PostgreSQL (replace with user credentials)\n",
    "conn = psycopg2.connect(\n",
    "    dbname=\"neurology_clinic_db\", \n",
    "    user=\"username\", \n",
    "    password=\"password\", \n",
    "    host=\"localhost\", \n",
    "    port=\"5432\"\n",
    ")\n",
    "\n",
    "cursor = conn.cursor()"
   ]
  },
  {
   "cell_type": "code",
   "execution_count": null,
   "id": "7159abe7",
   "metadata": {},
   "outputs": [],
   "source": [
    "### 2. **Extract Phase**\n",
    "now I extract the data from CSV files into Pandas DataFrames."
   ]
  },
  {
   "cell_type": "code",
   "execution_count": null,
   "id": "2b914a94",
   "metadata": {},
   "outputs": [],
   "source": [
    "# Extract data from CSV files\n",
    "patients_df = pd.read_csv('patients.csv')\n",
    "appointments_df = pd.read_csv('appointments.csv')\n",
    "\n",
    "# Display extracted data\n",
    "print(\"Patients Data:\")\n",
    "display(patients_df.head())\n",
    "\n",
    "print(\"\\nAppointments Data:\")\n",
    "display(appointments_df.head())"
   ]
  },
  {
   "cell_type": "code",
   "execution_count": null,
   "id": "ed6a7e8e",
   "metadata": {},
   "outputs": [],
   "source": [
    "### 3. **Transform Phase**\n",
    "I'll perform transformations on the extracted data, such as ensuring date formats are consistent and filling in missing values."
   ]
  },
  {
   "cell_type": "code",
   "execution_count": null,
   "id": "b37c98bd",
   "metadata": {},
   "outputs": [],
   "source": [
    "# Convert appointment_date to datetime\n",
    "appointments_df['appointment_date'] = pd.to_datetime(appointments_df['appointment_date'], format='%Y-%m-%d')\n",
    "\n",
    "# Handle missing values (if any)\n",
    "patients_df.fillna(\"Unknown\", inplace=True)\n",
    "appointments_df.fillna(\"Unknown\", inplace=True)\n",
    "\n",
    "# Display transformed data\n",
    "print(\"\\nTransformed Patients Data:\")\n",
    "display(patients_df.head())\n",
    "\n",
    "print(\"\\nTransformed Appointments Data:\")\n",
    "display(appointments_df.head())"
   ]
  },
  {
   "cell_type": "code",
   "execution_count": null,
   "id": "f4e2e28d",
   "metadata": {},
   "outputs": [],
   "source": [
    "### 4. **Load Phase**\n",
    "load the transformed data into the PostgreSQL database."
   ]
  },
  {
   "cell_type": "code",
   "execution_count": null,
   "id": "a2c7b670",
   "metadata": {},
   "outputs": [],
   "source": [
    "# Load patients data into the database\n",
    "for _, row in patients_df.iterrows():\n",
    "    cursor.execute(\"\"\"\n",
    "        INSERT INTO patients (first_name, last_name, date_of_birth, gender, phone_number, address, neurology_history)\n",
    "        VALUES (%s, %s, %s, %s, %s, %s, %s)\n",
    "    \"\"\", tuple(row))\n",
    "\n",
    "# Load appointments data into the database\n",
    "for _, row in appointments_df.iterrows():\n",
    "    cursor.execute(\"\"\"\n",
    "        INSERT INTO appointments (patient_id, doctor_id, appointment_date, status)\n",
    "        VALUES (%s, %s, %s, %s)\n",
    "    \"\"\", tuple(row))\n",
    "\n",
    "# Commit changes to the database\n",
    "conn.commit()\n",
    "\n",
    "# Close the cursor and connection\n",
    "cursor.close()\n",
    "conn.close()\n",
    "\n",
    "print(\"Data loaded into the database successfully.\")"
   ]
  },
  {
   "cell_type": "code",
   "execution_count": null,
   "id": "e65e8e50",
   "metadata": {},
   "outputs": [],
   "source": [
    "## Performance tunning"
   ]
  },
  {
   "cell_type": "code",
   "execution_count": null,
   "id": "c3d19cce",
   "metadata": {},
   "outputs": [],
   "source": [
    "-- indexing.sql\n",
    "CREATE INDEX idx_patient_last_name ON patients(last_name);\n",
    "CREATE INDEX idx_appointment_date ON appointments(appointment_date);\n",
    "\n",
    "-- Example query before optimization\n",
    "SELECT * FROM patients WHERE last_name = 'Smith';\n",
    "\n",
    "-- Optimized query after indexing\n",
    "EXPLAIN ANALYZE SELECT * FROM patients WHERE last_name = 'Smith';"
   ]
  },
  {
   "cell_type": "code",
   "execution_count": null,
   "id": "43042508",
   "metadata": {},
   "outputs": [],
   "source": [
    "## NoSQL build using MongoDB"
   ]
  },
  {
   "cell_type": "code",
   "execution_count": null,
   "id": "5bbe35f2",
   "metadata": {},
   "outputs": [],
   "source": [
    "// mongodb_script.js\n",
    "db.createCollection(\"patients\");\n",
    "\n",
    "db.patients.insertMany([\n",
    "    {\n",
    "        first_name: \"John\",\n",
    "        last_name: \"Doe\",\n",
    "        age: 45,\n",
    "        conditions: [\"diabetes\", \"hypertension\"],\n",
    "        appointments: [\n",
    "            { date: \"2024-10-01\", doctor: \"Dr. Smith\", status: \"completed\" }\n",
    "        ]\n",
    "    },\n",
    "    {\n",
    "        first_name: \"Jane\",\n",
    "        last_name: \"Doe\",\n",
    "        age: 50,\n",
    "        conditions: [\"asthma\"],\n",
    "        appointments: [\n",
    "            { date: \"2024-09-21\", doctor: \"Dr. Jones\", status: \"pending\" }\n",
    "        ]\n",
    "    }\n",
    "]);"
   ]
  },
  {
   "cell_type": "code",
   "execution_count": null,
   "id": "1206c2c6",
   "metadata": {},
   "outputs": [],
   "source": [
    "#Deploy database on AWS using RDS"
   ]
  },
  {
   "cell_type": "code",
   "execution_count": null,
   "id": "1c0a2d15",
   "metadata": {},
   "outputs": [],
   "source": [
    "# main.tf\n",
    "provider \"aws\" {\n",
    "  region = \"us-east-1\"\n",
    "}\n",
    "\n",
    "resource \"aws_db_instance\" \"healthcare_db\" {\n",
    "  allocated_storage    = 20\n",
    "  engine               = \"postgres\"\n",
    "  engine_version       = \"12.3\"\n",
    "  instance_class       = \"db.t2.micro\"\n",
    "  name                 = \"healthcare_db\"\n",
    "  username             = \"admin\"\n",
    "  password             = \"password123\"\n",
    "  parameter_group_name = \"default.postgres12\"\n",
    "  publicly_accessible  = true\n",
    "  skip_final_snapshot  = true\n",
    "}"
   ]
  },
  {
   "cell_type": "code",
   "execution_count": null,
   "id": "28c2701e",
   "metadata": {},
   "outputs": [],
   "source": [
    "#CI/CD pipeline setup for automating database\n",
    "#dockerfile for setting up database in docker container, jenkinsfile for automating deployments"
   ]
  },
  {
   "cell_type": "code",
   "execution_count": null,
   "id": "52186673",
   "metadata": {},
   "outputs": [],
   "source": [
    "// Jenkinsfile\n",
    "pipeline {\n",
    "    agent any\n",
    "    stages {\n",
    "        stage('Build') {\n",
    "            steps {\n",
    "                echo 'Building Docker image'\n",
    "                sh 'docker build -t healthcare-db .'\n",
    "            }\n",
    "        }\n",
    "        stage('Deploy') {\n",
    "            steps {\n",
    "                echo 'Deploying database schema'\n",
    "                sh 'docker run healthcare-db psql -U postgres -f /scripts/schema.sql'\n",
    "            }\n",
    "        }\n",
    "    }\n",
    "}"
   ]
  }
 ],
 "metadata": {
  "kernelspec": {
   "display_name": "Python 3 (ipykernel)",
   "language": "python",
   "name": "python3"
  },
  "language_info": {
   "codemirror_mode": {
    "name": "ipython",
    "version": 3
   },
   "file_extension": ".py",
   "mimetype": "text/x-python",
   "name": "python",
   "nbconvert_exporter": "python",
   "pygments_lexer": "ipython3",
   "version": "3.9.13"
  }
 },
 "nbformat": 4,
 "nbformat_minor": 5
}
